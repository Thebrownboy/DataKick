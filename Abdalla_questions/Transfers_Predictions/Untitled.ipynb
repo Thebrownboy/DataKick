{
 "cells": [
  {
   "cell_type": "markdown",
   "id": "b4f10513",
   "metadata": {},
   "source": [
    "# بسم الله الرحمن الرحيم"
   ]
  },
  {
   "cell_type": "code",
   "execution_count": 1,
   "id": "4f9db288",
   "metadata": {},
   "outputs": [],
   "source": [
    "import numpy as np\n",
    "import pandas as pd \n",
    "from matplotlib import pyplot as plt "
   ]
  },
  {
   "cell_type": "code",
   "execution_count": 2,
   "id": "52003fc2",
   "metadata": {},
   "outputs": [],
   "source": [
    "# season=\"2016-2017\""
   ]
  },
  {
   "cell_type": "code",
   "execution_count": 3,
   "id": "415b29d4",
   "metadata": {},
   "outputs": [],
   "source": [
    "# data = pd.read_csv(f\"sstand-stats{season}/final-data-{season}.csv\")"
   ]
  },
  {
   "cell_type": "code",
   "execution_count": 4,
   "id": "cb5dbf04",
   "metadata": {},
   "outputs": [],
   "source": [
    "# data.drop([\"Unnamed: 0\",'xG', 'npxG', 'xAG', 'npxG+xAG', 'PrgC', 'PrgP','PrgR'],axis=1)\\\n",
    "#     .to_csv(f\"sstand-stats{season}/final-data-{season}.csv\")"
   ]
  },
  {
   "cell_type": "code",
   "execution_count": 5,
   "id": "f8a20c29",
   "metadata": {},
   "outputs": [],
   "source": [
    "train_data = pd.read_csv(f\"stand-stats2021-2022/final-data-2021-2022.csv\")\n",
    "strain_data= pd.read_csv(f\"sstand-stats2021-2022/final-data-2021-2022.csv\")\n",
    "first = 2020\n",
    "second= 2021"
   ]
  },
  {
   "cell_type": "code",
   "execution_count": 6,
   "id": "fba262f1",
   "metadata": {},
   "outputs": [],
   "source": [
    "for i in range(6):\n",
    "    data= pd.read_csv(f\"stand-stats{first-i}-{second-i}/final-data-{first-i}-{second-i}.csv\")\n",
    "    train_data=pd.concat([train_data,data],axis=0)\n",
    "\n",
    "for i in range(6):\n",
    "    data= pd.read_csv(f\"sstand-stats{first-i}-{second-i}/final-data-{first-i}-{second-i}.csv\")\n",
    "    strain_data=pd.concat([strain_data,data],axis=0)"
   ]
  },
  {
   "cell_type": "code",
   "execution_count": 7,
   "id": "febb7f16",
   "metadata": {},
   "outputs": [],
   "source": [
    "train_data =train_data.drop([\"Unnamed: 0\"],axis=1)\n",
    "strain_data=strain_data.drop([\"Unnamed: 0\"],axis=1)\n",
    "train_data=pd.concat([train_data,strain_data],axis=0)"
   ]
  },
  {
   "cell_type": "code",
   "execution_count": 8,
   "id": "05e4f462",
   "metadata": {},
   "outputs": [
    {
     "data": {
      "text/html": [
       "<div>\n",
       "<style scoped>\n",
       "    .dataframe tbody tr th:only-of-type {\n",
       "        vertical-align: middle;\n",
       "    }\n",
       "\n",
       "    .dataframe tbody tr th {\n",
       "        vertical-align: top;\n",
       "    }\n",
       "\n",
       "    .dataframe thead th {\n",
       "        text-align: right;\n",
       "    }\n",
       "</style>\n",
       "<table border=\"1\" class=\"dataframe\">\n",
       "  <thead>\n",
       "    <tr style=\"text-align: right;\">\n",
       "      <th></th>\n",
       "      <th>Age</th>\n",
       "      <th>MP</th>\n",
       "      <th>Starts</th>\n",
       "      <th>Min</th>\n",
       "      <th>90s</th>\n",
       "      <th>Gls</th>\n",
       "      <th>Ast</th>\n",
       "      <th>G+A</th>\n",
       "      <th>G-PK</th>\n",
       "      <th>PK</th>\n",
       "      <th>PKatt</th>\n",
       "      <th>rank</th>\n",
       "      <th>#attackers</th>\n",
       "      <th>Attacking_transfers</th>\n",
       "    </tr>\n",
       "  </thead>\n",
       "  <tbody>\n",
       "    <tr>\n",
       "      <th>0</th>\n",
       "      <td>23.750000</td>\n",
       "      <td>19.375000</td>\n",
       "      <td>12.875000</td>\n",
       "      <td>1159.750000</td>\n",
       "      <td>12.887500</td>\n",
       "      <td>3.875000</td>\n",
       "      <td>3.000000</td>\n",
       "      <td>6.875000</td>\n",
       "      <td>3.250000</td>\n",
       "      <td>0.625000</td>\n",
       "      <td>1.000000</td>\n",
       "      <td>5.0</td>\n",
       "      <td>8</td>\n",
       "      <td>3</td>\n",
       "    </tr>\n",
       "    <tr>\n",
       "      <th>1</th>\n",
       "      <td>23.888889</td>\n",
       "      <td>11.000000</td>\n",
       "      <td>7.333333</td>\n",
       "      <td>672.555556</td>\n",
       "      <td>7.477778</td>\n",
       "      <td>2.222222</td>\n",
       "      <td>1.222222</td>\n",
       "      <td>3.444444</td>\n",
       "      <td>1.888889</td>\n",
       "      <td>0.333333</td>\n",
       "      <td>0.333333</td>\n",
       "      <td>14.0</td>\n",
       "      <td>9</td>\n",
       "      <td>1</td>\n",
       "    </tr>\n",
       "    <tr>\n",
       "      <th>2</th>\n",
       "      <td>23.000000</td>\n",
       "      <td>26.250000</td>\n",
       "      <td>19.750000</td>\n",
       "      <td>1826.750000</td>\n",
       "      <td>20.300000</td>\n",
       "      <td>5.750000</td>\n",
       "      <td>3.500000</td>\n",
       "      <td>9.250000</td>\n",
       "      <td>4.250000</td>\n",
       "      <td>1.500000</td>\n",
       "      <td>1.500000</td>\n",
       "      <td>13.0</td>\n",
       "      <td>4</td>\n",
       "      <td>2</td>\n",
       "    </tr>\n",
       "    <tr>\n",
       "      <th>3</th>\n",
       "      <td>24.000000</td>\n",
       "      <td>20.000000</td>\n",
       "      <td>14.800000</td>\n",
       "      <td>1352.600000</td>\n",
       "      <td>15.020000</td>\n",
       "      <td>4.400000</td>\n",
       "      <td>1.400000</td>\n",
       "      <td>5.800000</td>\n",
       "      <td>4.000000</td>\n",
       "      <td>0.400000</td>\n",
       "      <td>0.600000</td>\n",
       "      <td>9.0</td>\n",
       "      <td>5</td>\n",
       "      <td>3</td>\n",
       "    </tr>\n",
       "    <tr>\n",
       "      <th>4</th>\n",
       "      <td>25.000000</td>\n",
       "      <td>25.333333</td>\n",
       "      <td>17.666667</td>\n",
       "      <td>1560.333333</td>\n",
       "      <td>17.366667</td>\n",
       "      <td>6.666667</td>\n",
       "      <td>1.333333</td>\n",
       "      <td>8.000000</td>\n",
       "      <td>6.333333</td>\n",
       "      <td>0.333333</td>\n",
       "      <td>0.333333</td>\n",
       "      <td>3.0</td>\n",
       "      <td>3</td>\n",
       "      <td>3</td>\n",
       "    </tr>\n",
       "    <tr>\n",
       "      <th>...</th>\n",
       "      <td>...</td>\n",
       "      <td>...</td>\n",
       "      <td>...</td>\n",
       "      <td>...</td>\n",
       "      <td>...</td>\n",
       "      <td>...</td>\n",
       "      <td>...</td>\n",
       "      <td>...</td>\n",
       "      <td>...</td>\n",
       "      <td>...</td>\n",
       "      <td>...</td>\n",
       "      <td>...</td>\n",
       "      <td>...</td>\n",
       "      <td>...</td>\n",
       "    </tr>\n",
       "    <tr>\n",
       "      <th>12</th>\n",
       "      <td>23.000000</td>\n",
       "      <td>17.250000</td>\n",
       "      <td>12.000000</td>\n",
       "      <td>1098.750000</td>\n",
       "      <td>12.225000</td>\n",
       "      <td>6.750000</td>\n",
       "      <td>0.750000</td>\n",
       "      <td>7.500000</td>\n",
       "      <td>6.750000</td>\n",
       "      <td>0.000000</td>\n",
       "      <td>0.000000</td>\n",
       "      <td>9.0</td>\n",
       "      <td>4</td>\n",
       "      <td>2</td>\n",
       "    </tr>\n",
       "    <tr>\n",
       "      <th>13</th>\n",
       "      <td>25.500000</td>\n",
       "      <td>15.750000</td>\n",
       "      <td>10.000000</td>\n",
       "      <td>900.250000</td>\n",
       "      <td>10.000000</td>\n",
       "      <td>5.500000</td>\n",
       "      <td>1.750000</td>\n",
       "      <td>7.250000</td>\n",
       "      <td>4.500000</td>\n",
       "      <td>1.000000</td>\n",
       "      <td>1.250000</td>\n",
       "      <td>7.0</td>\n",
       "      <td>4</td>\n",
       "      <td>3</td>\n",
       "    </tr>\n",
       "    <tr>\n",
       "      <th>14</th>\n",
       "      <td>21.500000</td>\n",
       "      <td>19.500000</td>\n",
       "      <td>11.750000</td>\n",
       "      <td>1098.250000</td>\n",
       "      <td>12.200000</td>\n",
       "      <td>5.000000</td>\n",
       "      <td>0.500000</td>\n",
       "      <td>5.500000</td>\n",
       "      <td>4.750000</td>\n",
       "      <td>0.250000</td>\n",
       "      <td>0.250000</td>\n",
       "      <td>17.0</td>\n",
       "      <td>4</td>\n",
       "      <td>2</td>\n",
       "    </tr>\n",
       "    <tr>\n",
       "      <th>15</th>\n",
       "      <td>24.000000</td>\n",
       "      <td>25.500000</td>\n",
       "      <td>15.500000</td>\n",
       "      <td>1441.333333</td>\n",
       "      <td>16.033333</td>\n",
       "      <td>4.166667</td>\n",
       "      <td>2.000000</td>\n",
       "      <td>6.166667</td>\n",
       "      <td>3.833333</td>\n",
       "      <td>0.333333</td>\n",
       "      <td>0.500000</td>\n",
       "      <td>12.0</td>\n",
       "      <td>6</td>\n",
       "      <td>1</td>\n",
       "    </tr>\n",
       "    <tr>\n",
       "      <th>16</th>\n",
       "      <td>25.750000</td>\n",
       "      <td>26.000000</td>\n",
       "      <td>17.500000</td>\n",
       "      <td>1539.750000</td>\n",
       "      <td>17.150000</td>\n",
       "      <td>6.000000</td>\n",
       "      <td>4.500000</td>\n",
       "      <td>10.500000</td>\n",
       "      <td>6.000000</td>\n",
       "      <td>0.000000</td>\n",
       "      <td>0.000000</td>\n",
       "      <td>4.0</td>\n",
       "      <td>4</td>\n",
       "      <td>5</td>\n",
       "    </tr>\n",
       "  </tbody>\n",
       "</table>\n",
       "<p>238 rows × 14 columns</p>\n",
       "</div>"
      ],
      "text/plain": [
       "          Age         MP     Starts          Min        90s       Gls  \\\n",
       "0   23.750000  19.375000  12.875000  1159.750000  12.887500  3.875000   \n",
       "1   23.888889  11.000000   7.333333   672.555556   7.477778  2.222222   \n",
       "2   23.000000  26.250000  19.750000  1826.750000  20.300000  5.750000   \n",
       "3   24.000000  20.000000  14.800000  1352.600000  15.020000  4.400000   \n",
       "4   25.000000  25.333333  17.666667  1560.333333  17.366667  6.666667   \n",
       "..        ...        ...        ...          ...        ...       ...   \n",
       "12  23.000000  17.250000  12.000000  1098.750000  12.225000  6.750000   \n",
       "13  25.500000  15.750000  10.000000   900.250000  10.000000  5.500000   \n",
       "14  21.500000  19.500000  11.750000  1098.250000  12.200000  5.000000   \n",
       "15  24.000000  25.500000  15.500000  1441.333333  16.033333  4.166667   \n",
       "16  25.750000  26.000000  17.500000  1539.750000  17.150000  6.000000   \n",
       "\n",
       "         Ast        G+A      G-PK        PK     PKatt  rank  #attackers  \\\n",
       "0   3.000000   6.875000  3.250000  0.625000  1.000000   5.0           8   \n",
       "1   1.222222   3.444444  1.888889  0.333333  0.333333  14.0           9   \n",
       "2   3.500000   9.250000  4.250000  1.500000  1.500000  13.0           4   \n",
       "3   1.400000   5.800000  4.000000  0.400000  0.600000   9.0           5   \n",
       "4   1.333333   8.000000  6.333333  0.333333  0.333333   3.0           3   \n",
       "..       ...        ...       ...       ...       ...   ...         ...   \n",
       "12  0.750000   7.500000  6.750000  0.000000  0.000000   9.0           4   \n",
       "13  1.750000   7.250000  4.500000  1.000000  1.250000   7.0           4   \n",
       "14  0.500000   5.500000  4.750000  0.250000  0.250000  17.0           4   \n",
       "15  2.000000   6.166667  3.833333  0.333333  0.500000  12.0           6   \n",
       "16  4.500000  10.500000  6.000000  0.000000  0.000000   4.0           4   \n",
       "\n",
       "    Attacking_transfers  \n",
       "0                     3  \n",
       "1                     1  \n",
       "2                     2  \n",
       "3                     3  \n",
       "4                     3  \n",
       "..                  ...  \n",
       "12                    2  \n",
       "13                    3  \n",
       "14                    2  \n",
       "15                    1  \n",
       "16                    5  \n",
       "\n",
       "[238 rows x 14 columns]"
      ]
     },
     "execution_count": 8,
     "metadata": {},
     "output_type": "execute_result"
    }
   ],
   "source": [
    "train_data"
   ]
  },
  {
   "cell_type": "code",
   "execution_count": 9,
   "id": "1828dfda",
   "metadata": {},
   "outputs": [],
   "source": [
    "Y_train = train_data[\"Attacking_transfers\"].to_numpy()\n",
    "X_train = train_data.drop([\"Attacking_transfers\"],axis=1).to_numpy()"
   ]
  },
  {
   "cell_type": "code",
   "execution_count": 10,
   "id": "d8504fbd",
   "metadata": {},
   "outputs": [],
   "source": [
    "X_val=X_train[:9]\n",
    "X_train=X_train[9:]\n",
    "Y_val=Y_train[:9]\n",
    "Y_train=Y_train[9:]"
   ]
  },
  {
   "cell_type": "code",
   "execution_count": 11,
   "id": "f3a5f5a7",
   "metadata": {},
   "outputs": [],
   "source": [
    "from sklearn import preprocessing\n",
    "from sklearn.linear_model import LinearRegression"
   ]
  },
  {
   "cell_type": "code",
   "execution_count": 12,
   "id": "97e5cf3e",
   "metadata": {},
   "outputs": [],
   "source": [
    "scaler = preprocessing.StandardScaler().fit(X_train)\n",
    "X_scaled = scaler.transform(X_train)"
   ]
  },
  {
   "cell_type": "code",
   "execution_count": 13,
   "id": "7cc92266",
   "metadata": {},
   "outputs": [
    {
     "data": {
      "text/plain": [
       "(229,)"
      ]
     },
     "execution_count": 13,
     "metadata": {},
     "output_type": "execute_result"
    }
   ],
   "source": [
    "Y_train.shape"
   ]
  },
  {
   "cell_type": "code",
   "execution_count": 14,
   "id": "69a26b6b",
   "metadata": {},
   "outputs": [],
   "source": [
    "reg = LinearRegression().fit(X_scaled , Y_train)"
   ]
  },
  {
   "cell_type": "code",
   "execution_count": 17,
   "id": "e92b3ba6",
   "metadata": {},
   "outputs": [],
   "source": [
    "pred = reg.predict(scaler.transform(X_val))"
   ]
  },
  {
   "cell_type": "code",
   "execution_count": 24,
   "id": "c499b4b4",
   "metadata": {},
   "outputs": [
    {
     "data": {
      "text/plain": [
       "0.9697381180274485"
      ]
     },
     "execution_count": 24,
     "metadata": {},
     "output_type": "execute_result"
    }
   ],
   "source": [
    "np.sum((pred - Y_val)**2)/ Y_val.shape[0]"
   ]
  },
  {
   "cell_type": "code",
   "execution_count": null,
   "id": "09595a3f",
   "metadata": {},
   "outputs": [],
   "source": []
  }
 ],
 "metadata": {
  "kernelspec": {
   "display_name": "Python 3 (ipykernel)",
   "language": "python",
   "name": "python3"
  },
  "language_info": {
   "codemirror_mode": {
    "name": "ipython",
    "version": 3
   },
   "file_extension": ".py",
   "mimetype": "text/x-python",
   "name": "python",
   "nbconvert_exporter": "python",
   "pygments_lexer": "ipython3",
   "version": "3.9.13"
  }
 },
 "nbformat": 4,
 "nbformat_minor": 5
}
