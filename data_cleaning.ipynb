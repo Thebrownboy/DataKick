{
 "cells": [
  {
   "cell_type": "code",
   "execution_count": 2,
   "id": "d7fcb73a",
   "metadata": {},
   "outputs": [],
   "source": [
    "import pandas as pd \n",
    "import numpy as np\n",
    "import os \n"
   ]
  },
  {
   "cell_type": "code",
   "execution_count": 3,
   "id": "01e73803",
   "metadata": {},
   "outputs": [],
   "source": [
    "pd.set_option(\"display.max_columns\",85)\n",
    "# for displaying purposes "
   ]
  },
  {
   "cell_type": "markdown",
   "id": "17c76739",
   "metadata": {},
   "source": [
    "## Reading the Data\n",
    "<hr>"
   ]
  },
  {
   "cell_type": "code",
   "execution_count": 18,
   "id": "7932e196",
   "metadata": {},
   "outputs": [],
   "source": [
    "df1= pd.read_csv(\"season2017-2018.csv\")# first resource\n",
    "df2= pd.read_csv(\"season2017-2018(2).csv\") # second resource\n",
    "\n",
    "# the data is scraped from different resourses\n",
    "# so the first part of this notebook will be for cleaing the data and \n",
    "# unify the attributes and so on"
   ]
  },
  {
   "cell_type": "code",
   "execution_count": 19,
   "id": "c7f842c6",
   "metadata": {},
   "outputs": [],
   "source": [
    "df1.drop([\"Unnamed: 0\"],axis='columns',inplace=True)\n",
    "# droping the indexing column in the data "
   ]
  },
  {
   "cell_type": "code",
   "execution_count": 20,
   "id": "fe8dce3d",
   "metadata": {},
   "outputs": [],
   "source": [
    "# convert the date column from string to a date object \n",
    "# date column will be a very important column in the preprocssesing process \n",
    "# it will be the index that the matches will be jonined at \n",
    "# the date should be the same for the same match in different resources \n",
    "# it means that the data will be sorted on the date then on other attributes discussed later \n",
    "df1[\"date\"]=pd.to_datetime(df1[\"date\"].str.replace(\"-\",\"\"),format=\"%Y%m%d\")"
   ]
  },
  {
   "cell_type": "code",
   "execution_count": 21,
   "id": "e46cfbfe",
   "metadata": {},
   "outputs": [],
   "source": [
    "df2[\"Date\"]=pd.to_datetime(df2[\"Date\"].str.replace(\"/\",\"\"),format=\"%d%m%Y\")"
   ]
  },
  {
   "cell_type": "code",
   "execution_count": 22,
   "id": "1283fe1e",
   "metadata": {},
   "outputs": [],
   "source": [
    "# dropping unwanted columns "
   ]
  },
  {
   "cell_type": "code",
   "execution_count": 23,
   "id": "e7f421a6",
   "metadata": {},
   "outputs": [],
   "source": [
    "df2.drop([\"Div\",\"FTHG\",\"FTAG\",\"HTHG\",\"HTAG\",\"HTR\",\"Referee\"],axis='columns',inplace=True)\n",
    "# drop the dive , FTHG(final time home goal), FTAG(Final time  away Goals)\n",
    "# HTGH(half time goals home ), \" ... \" \"to referee\""
   ]
  },
  {
   "cell_type": "code",
   "execution_count": 24,
   "id": "2d082d81",
   "metadata": {},
   "outputs": [],
   "source": [
    "index = df2.columns.get_loc(\"B365H\")\n",
    "df2.drop(df2.iloc[:,index:],axis=1,inplace=True)\n",
    "# dropping the betting data "
   ]
  },
  {
   "cell_type": "code",
   "execution_count": 25,
   "id": "3e97be60",
   "metadata": {},
   "outputs": [],
   "source": [
    "df2.sort_values(by=[\"Date\",\"HomeTeam\",\"AwayTeam\"],inplace=True)\n",
    "# sorting the data on Date , Home , then Away \n",
    "# the data relevant to each other \n",
    "# it means that the 380 row in the first resources will be the same \n",
    "# matches for the second resource which will make the joining process correct "
   ]
  },
  {
   "cell_type": "code",
   "execution_count": 26,
   "id": "9c271d7d",
   "metadata": {},
   "outputs": [],
   "source": [
    "df1.sort_values(by=[\"date\",\"home\",\"away\"],inplace=True)"
   ]
  },
  {
   "cell_type": "code",
   "execution_count": 27,
   "id": "5f1b4780",
   "metadata": {},
   "outputs": [],
   "source": [
    "# TCP -> Team Complete Pass\n",
    "# TTP -> Team Total Pass\n",
    "\n",
    "df1[\"TCP\"]=df1[\"passeshome\"].str.split(\"—\").apply(lambda x : x[0].split(\"of\")[0])\n",
    "df1[\"TTP\"]=df1[\"passeshome\"].str.split(\"—\").apply(lambda x : x[0].split(\"of\")[1])\n",
    "df1.drop([\"passeshome\"],axis=1,inplace=True)\n",
    "\n",
    "\n",
    "# the date was in string format like that \"200 of 400-- 50%\"\n",
    "# so I want to get the team complete pass 200 , team total pass 400 \n"
   ]
  },
  {
   "cell_type": "code",
   "execution_count": 28,
   "id": "a18d189d",
   "metadata": {},
   "outputs": [],
   "source": [
    "#OCP ->Opponent Complete Pass\n",
    "#OTP -> Opponent Total Pass\n",
    "df1[\"OCP\"]=df1[\"passesaway\"].str.split(\"—\").apply(lambda x : x[1].split(\"of\")[0])\n",
    "df1[\"OTP\"]=df1[\"passesaway\"].str.split(\"—\").apply(lambda x : x[1].split(\"of\")[1])\n",
    "df1.drop([\"passesaway\"],axis=1,inplace=True)\n",
    "\n",
    "# the same thing in opponent "
   ]
  },
  {
   "cell_type": "code",
   "execution_count": 29,
   "id": "9ebd40d9",
   "metadata": {},
   "outputs": [],
   "source": [
    "df1.drop([\"saveshome\",\"savesaway\"],axis=1,inplace=True)\n",
    "\n",
    "# you have extracted the data so , drop the columns "
   ]
  },
  {
   "cell_type": "code",
   "execution_count": 30,
   "id": "666d2ea3",
   "metadata": {},
   "outputs": [],
   "source": [
    "df1.rename(columns={\"possessionhome\":\"POT\",\"possessionaway\":\"POO\",\"crosseshome\":\"CRT\",\n",
    "                   \"crossesaway\":\"CRO\",\"toucheshome\":\"TCT\",\"touchesaway\":\"TCO\",\n",
    "                   \"tackleshome\":\"TTT\",\"tacklesaway\":\"TTO\",\"interceptionhome\":\"IPT\",\"interceptionaway\":\"IPO\",\n",
    "                   \"aerialshome\":\"ART\",\"aerialsaway\":\"ARO\",\"clearnacehome\":\"CLT\",\"clearnaceaway\":\"CLO\"},inplace=True)\n",
    "\n",
    "\n",
    "# renaming the date \n",
    "\n",
    "# POT-> PossesionTeam\n",
    "# POO=> PossesionOpponent\n",
    "# CRT => crossesTeam\n",
    "# CRO => crossesOpponent\n",
    "# TCT => touchesTeam\n",
    "# TCO => touchesOpponent\n",
    "# TTT => tacklesTeam\n",
    "# TTO => tacklesOpponent\n",
    "# IPT => interceptionTeam\n",
    "# IPO => interceptionOpponent\n",
    "# ART => aerialsTeam\n",
    "# ARO => aerialsOpponent\n",
    "# CLT => clearnaceTeam\n",
    "# CLO => clearnaceOpponent\n",
    "\n",
    "\n",
    "# the team data means the home team , opponent will be the away team \n",
    "# I will explain in details what will I do to make use of the Home attribute \n",
    "# in the model "
   ]
  },
  {
   "cell_type": "code",
   "execution_count": null,
   "id": "df094058",
   "metadata": {},
   "outputs": [],
   "source": [
    "df1.set_index(\"date\",inplace=True)\n",
    "df2.set_index(\"Date\",inplace=True)"
   ]
  }
 ],
 "metadata": {
  "kernelspec": {
   "display_name": "Python 3 (ipykernel)",
   "language": "python",
   "name": "python3"
  },
  "language_info": {
   "codemirror_mode": {
    "name": "ipython",
    "version": 3
   },
   "file_extension": ".py",
   "mimetype": "text/x-python",
   "name": "python",
   "nbconvert_exporter": "python",
   "pygments_lexer": "ipython3",
   "version": "3.9.13"
  }
 },
 "nbformat": 4,
 "nbformat_minor": 5
}
