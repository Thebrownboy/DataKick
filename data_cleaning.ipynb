{
 "cells": [
  {
   "cell_type": "code",
   "execution_count": 2,
   "id": "d7fcb73a",
   "metadata": {},
   "outputs": [],
   "source": [
    "import pandas as pd \n",
    "import numpy as np\n",
    "import os \n"
   ]
  },
  {
   "cell_type": "code",
   "execution_count": 3,
   "id": "01e73803",
   "metadata": {},
   "outputs": [],
   "source": [
    "pd.set_option(\"display.max_columns\",85)\n",
    "# for displaying purposes "
   ]
  },
  {
   "cell_type": "markdown",
   "id": "da9103a1",
   "metadata": {},
   "source": [
    "## Reading the Data\n",
    "<hr>"
   ]
  },
  {
   "cell_type": "code",
   "execution_count": 8,
   "id": "c283bc66",
   "metadata": {},
   "outputs": [],
   "source": [
    "df1= pd.read_csv(\"season2017-2018.csv\")# first resource\n",
    "df2= pd.read_csv(\"season2017-2018(2).csv\") # second resource\n",
    "\n",
    "# the data is scraped from different resourses\n",
    "# so the first part of this notebook will be for cleaing the data and \n",
    "# unify the attributes and so on"
   ]
  },
  {
   "cell_type": "code",
   "execution_count": 9,
   "id": "3ac7739e",
   "metadata": {},
   "outputs": [],
   "source": [
    "df1.drop([\"Unnamed: 0\"],axis='columns',inplace=True)\n",
    "# droping the indexing column in the data "
   ]
  },
  {
   "cell_type": "code",
   "execution_count": 10,
   "id": "48c46dd5",
   "metadata": {},
   "outputs": [],
   "source": [
    "# convert the date column from string to a date object \n",
    "# date column will be a very important column in the preprocssesing process \n",
    "# it will be the index that the matches will be jonined at \n",
    "# the date should be the same for the same match in different resources \n",
    "# it means that the data will be sorted on the date then on other attributes discussed later \n",
    "df1[\"date\"]=pd.to_datetime(df1[\"date\"].str.replace(\"-\",\"\"),format=\"%Y%m%d\")"
   ]
  },
  {
   "cell_type": "code",
   "execution_count": 11,
   "id": "94d238f5",
   "metadata": {},
   "outputs": [],
   "source": [
    "df2[\"Date\"]=pd.to_datetime(df2[\"Date\"].str.replace(\"/\",\"\"),format=\"%d%m%Y\")"
   ]
  },
  {
   "cell_type": "code",
   "execution_count": null,
   "id": "7997f3e0",
   "metadata": {},
   "outputs": [],
   "source": []
  }
 ],
 "metadata": {
  "kernelspec": {
   "display_name": "Python 3 (ipykernel)",
   "language": "python",
   "name": "python3"
  },
  "language_info": {
   "codemirror_mode": {
    "name": "ipython",
    "version": 3
   },
   "file_extension": ".py",
   "mimetype": "text/x-python",
   "name": "python",
   "nbconvert_exporter": "python",
   "pygments_lexer": "ipython3",
   "version": "3.9.13"
  }
 },
 "nbformat": 4,
 "nbformat_minor": 5
}
