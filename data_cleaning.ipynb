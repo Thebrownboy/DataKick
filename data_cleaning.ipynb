{
 "cells": [
  {
   "cell_type": "code",
   "execution_count": 2,
   "id": "d7fcb73a",
   "metadata": {},
   "outputs": [],
   "source": [
    "import pandas as pd \n",
    "import numpy as np\n",
    "import os \n"
   ]
  },
  {
   "cell_type": "code",
   "execution_count": 3,
   "id": "01e73803",
   "metadata": {},
   "outputs": [],
   "source": [
    "pd.set_option(\"display.max_columns\",85)\n",
    "# for displaying purposes "
   ]
  },
  {
   "cell_type": "markdown",
   "id": "ffce462e",
   "metadata": {},
   "source": [
    "## Reading the Data\n",
    "<hr>"
   ]
  },
  {
   "cell_type": "code",
   "execution_count": 18,
   "id": "69f6223c",
   "metadata": {},
   "outputs": [],
   "source": [
    "df1= pd.read_csv(\"season2017-2018.csv\")# first resource\n",
    "df2= pd.read_csv(\"season2017-2018(2).csv\") # second resource\n",
    "\n",
    "# the data is scraped from different resourses\n",
    "# so the first part of this notebook will be for cleaing the data and \n",
    "# unify the attributes and so on"
   ]
  },
  {
   "cell_type": "code",
   "execution_count": 19,
   "id": "bbee9121",
   "metadata": {},
   "outputs": [],
   "source": [
    "df1.drop([\"Unnamed: 0\"],axis='columns',inplace=True)\n",
    "# droping the indexing column in the data "
   ]
  },
  {
   "cell_type": "code",
   "execution_count": 20,
   "id": "afc86421",
   "metadata": {},
   "outputs": [],
   "source": [
    "# convert the date column from string to a date object \n",
    "# date column will be a very important column in the preprocssesing process \n",
    "# it will be the index that the matches will be jonined at \n",
    "# the date should be the same for the same match in different resources \n",
    "# it means that the data will be sorted on the date then on other attributes discussed later \n",
    "df1[\"date\"]=pd.to_datetime(df1[\"date\"].str.replace(\"-\",\"\"),format=\"%Y%m%d\")"
   ]
  },
  {
   "cell_type": "code",
   "execution_count": 21,
   "id": "15bb88ee",
   "metadata": {},
   "outputs": [],
   "source": [
    "df2[\"Date\"]=pd.to_datetime(df2[\"Date\"].str.replace(\"/\",\"\"),format=\"%d%m%Y\")"
   ]
  },
  {
   "cell_type": "code",
   "execution_count": 22,
   "id": "2ecb3b85",
   "metadata": {},
   "outputs": [],
   "source": [
    "# dropping unwanted columns "
   ]
  },
  {
   "cell_type": "code",
   "execution_count": 23,
   "id": "e8278f2b",
   "metadata": {},
   "outputs": [],
   "source": [
    "df2.drop([\"Div\",\"FTHG\",\"FTAG\",\"HTHG\",\"HTAG\",\"HTR\",\"Referee\"],axis='columns',inplace=True)\n",
    "# drop the dive , FTHG(final time home goal), FTAG(Final time  away Goals)\n",
    "# HTGH(half time goals home ), \" ... \" \"to referee\""
   ]
  },
  {
   "cell_type": "code",
   "execution_count": 24,
   "id": "a0a657cf",
   "metadata": {},
   "outputs": [],
   "source": [
    "index = df2.columns.get_loc(\"B365H\")\n",
    "df2.drop(df2.iloc[:,index:],axis=1,inplace=True)\n",
    "# dropping the betting data "
   ]
  },
  {
   "cell_type": "code",
   "execution_count": 15,
   "id": "c588e0f6",
   "metadata": {},
   "outputs": [],
   "source": [
    "df2.sort_values(by=[\"Date\",\"HomeTeam\",\"AwayTeam\"],inplace=True)\n",
    "# sorting the data on Date , Home , then Away \n",
    "# to make the"
   ]
  },
  {
   "cell_type": "code",
   "execution_count": 16,
   "id": "8827c96a",
   "metadata": {},
   "outputs": [],
   "source": [
    "df1.sort_values(by=[\"date\",\"home\",\"away\"],inplace=True)"
   ]
  },
  {
   "cell_type": "code",
   "execution_count": null,
   "id": "bc112c41",
   "metadata": {},
   "outputs": [],
   "source": []
  }
 ],
 "metadata": {
  "kernelspec": {
   "display_name": "Python 3 (ipykernel)",
   "language": "python",
   "name": "python3"
  },
  "language_info": {
   "codemirror_mode": {
    "name": "ipython",
    "version": 3
   },
   "file_extension": ".py",
   "mimetype": "text/x-python",
   "name": "python",
   "nbconvert_exporter": "python",
   "pygments_lexer": "ipython3",
   "version": "3.9.13"
  }
 },
 "nbformat": 4,
 "nbformat_minor": 5
}
