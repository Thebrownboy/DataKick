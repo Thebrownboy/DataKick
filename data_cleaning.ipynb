{
 "cells": [
  {
   "cell_type": "code",
   "execution_count": 2,
   "id": "d7fcb73a",
   "metadata": {},
   "outputs": [],
   "source": [
    "import pandas as pd \n",
    "import numpy as np\n",
    "import os \n"
   ]
  },
  {
   "cell_type": "code",
   "execution_count": 3,
   "id": "01e73803",
   "metadata": {},
   "outputs": [],
   "source": [
    "pd.set_option(\"display.max_columns\",85)\n",
    "# for displaying purposes "
   ]
  },
  {
   "cell_type": "markdown",
   "id": "d906bad9",
   "metadata": {},
   "source": [
    "## Reading the Data\n",
    "<hr>"
   ]
  },
  {
   "cell_type": "code",
   "execution_count": 18,
   "id": "0a868d45",
   "metadata": {},
   "outputs": [],
   "source": [
    "df1= pd.read_csv(\"season2017-2018.csv\")# first resource\n",
    "df2= pd.read_csv(\"season2017-2018(2).csv\") # second resource\n",
    "\n",
    "# the data is scraped from different resourses\n",
    "# so the first part of this notebook will be for cleaing the data and \n",
    "# unify the attributes and so on"
   ]
  },
  {
   "cell_type": "code",
   "execution_count": 19,
   "id": "ba64d5de",
   "metadata": {},
   "outputs": [],
   "source": [
    "df1.drop([\"Unnamed: 0\"],axis='columns',inplace=True)\n",
    "# droping the indexing column in the data "
   ]
  },
  {
   "cell_type": "code",
   "execution_count": 20,
   "id": "88ecc417",
   "metadata": {},
   "outputs": [],
   "source": [
    "# convert the date column from string to a date object \n",
    "# date column will be a very important column in the preprocssesing process \n",
    "# it will be the index that the matches will be jonined at \n",
    "# the date should be the same for the same match in different resources \n",
    "# it means that the data will be sorted on the date then on other attributes discussed later \n",
    "df1[\"date\"]=pd.to_datetime(df1[\"date\"].str.replace(\"-\",\"\"),format=\"%Y%m%d\")"
   ]
  },
  {
   "cell_type": "code",
   "execution_count": 21,
   "id": "c5c749cf",
   "metadata": {},
   "outputs": [],
   "source": [
    "df2[\"Date\"]=pd.to_datetime(df2[\"Date\"].str.replace(\"/\",\"\"),format=\"%d%m%Y\")"
   ]
  },
  {
   "cell_type": "code",
   "execution_count": 22,
   "id": "dea1bfc7",
   "metadata": {},
   "outputs": [],
   "source": [
    "# dropping unwanted columns "
   ]
  },
  {
   "cell_type": "code",
   "execution_count": 23,
   "id": "6b6c6994",
   "metadata": {},
   "outputs": [],
   "source": [
    "df2.drop([\"Div\",\"FTHG\",\"FTAG\",\"HTHG\",\"HTAG\",\"HTR\",\"Referee\"],axis='columns',inplace=True)\n",
    "# drop the dive , FTHG(final time home goal), FTAG(Final time  away Goals)\n",
    "# HTGH(half time goals home ), \" ... \" \"to referee\""
   ]
  },
  {
   "cell_type": "code",
   "execution_count": 24,
   "id": "c26830e7",
   "metadata": {},
   "outputs": [],
   "source": [
    "index = df2.columns.get_loc(\"B365H\")\n",
    "df2.drop(df2.iloc[:,index:],axis=1,inplace=True)\n",
    "# dropping the betting data "
   ]
  },
  {
   "cell_type": "code",
   "execution_count": 25,
   "id": "3e32db4a",
   "metadata": {},
   "outputs": [],
   "source": [
    "df2.sort_values(by=[\"Date\",\"HomeTeam\",\"AwayTeam\"],inplace=True)\n",
    "# sorting the data on Date , Home , then Away \n",
    "# the data relevant to each other \n",
    "# it means that the 380 row in the first resources will be the same \n",
    "# matches for the second resource which will make the joining process correct "
   ]
  },
  {
   "cell_type": "code",
   "execution_count": 26,
   "id": "43f8ce6c",
   "metadata": {},
   "outputs": [],
   "source": [
    "df1.sort_values(by=[\"date\",\"home\",\"away\"],inplace=True)"
   ]
  },
  {
   "cell_type": "code",
   "execution_count": 27,
   "id": "c336fcba",
   "metadata": {},
   "outputs": [],
   "source": [
    "# TCP -> Team Complete Pass\n",
    "# TTP -> Team Total Pass\n",
    "\n",
    "df1[\"TCP\"]=df1[\"passeshome\"].str.split(\"—\").apply(lambda x : x[0].split(\"of\")[0])\n",
    "df1[\"TTP\"]=df1[\"passeshome\"].str.split(\"—\").apply(lambda x : x[0].split(\"of\")[1])\n",
    "df1.drop([\"passeshome\"],axis=1,inplace=True)\n",
    "\n",
    "\n",
    "# the date was in string format like that \"200 of 400-- 50%\"\n",
    "# so I want to get the team complete pass 200 , team total pass 400 \n"
   ]
  },
  {
   "cell_type": "code",
   "execution_count": 28,
   "id": "ff338a34",
   "metadata": {},
   "outputs": [],
   "source": [
    "#OCP ->Opponent Complete Pass\n",
    "#OTP -> Opponent Total Pass\n",
    "df1[\"OCP\"]=df1[\"passesaway\"].str.split(\"—\").apply(lambda x : x[1].split(\"of\")[0])\n",
    "df1[\"OTP\"]=df1[\"passesaway\"].str.split(\"—\").apply(lambda x : x[1].split(\"of\")[1])\n",
    "df1.drop([\"passesaway\"],axis=1,inplace=True)\n",
    "\n",
    "# the same thing in opponent "
   ]
  },
  {
   "cell_type": "code",
   "execution_count": 29,
   "id": "ee009be6",
   "metadata": {},
   "outputs": [],
   "source": [
    "df1.drop([\"saveshome\",\"savesaway\"],axis=1,inplace=True)\n",
    "\n",
    "# you have extracted the data so , drop the columns "
   ]
  },
  {
   "cell_type": "code",
   "execution_count": 30,
   "id": "ba4deced",
   "metadata": {},
   "outputs": [],
   "source": [
    "df1.rename(columns={\"possessionhome\":\"POT\",\"possessionaway\":\"POO\",\"crosseshome\":\"CRT\",\n",
    "                   \"crossesaway\":\"CRO\",\"toucheshome\":\"TCT\",\"touchesaway\":\"TCO\",\n",
    "                   \"tackleshome\":\"TTT\",\"tacklesaway\":\"TTO\",\"interceptionhome\":\"IPT\",\"interceptionaway\":\"IPO\",\n",
    "                   \"aerialshome\":\"ART\",\"aerialsaway\":\"ARO\",\"clearnacehome\":\"CLT\",\"clearnaceaway\":\"CLO\"},inplace=True)\n",
    "\n",
    "\n",
    "# renaming the date \n",
    "\n",
    "# POT-> PossesionTeam\n",
    "# POO=> PossesionOpponent\n",
    "# CRT => crossesTeam\n",
    "# CRO => crossesOpponent\n",
    "# TCT => touchesTeam\n",
    "# TCO => touchesOpponent\n",
    "# TTT => tacklesTeam\n",
    "# TTO => tacklesOpponent\n",
    "# IPT => interceptionTeam\n",
    "# IPO => interceptionOpponent\n",
    "# ART => aerialsTeam\n",
    "# ARO => aerialsOpponent\n",
    "# CLT => clearnaceTeam\n",
    "# CLO => clearnaceOpponent\n",
    "\n",
    "\n",
    "# the team data means the home team , opponent will be the away team \n",
    "# I will explain in details what will I do to make use of the Home attribute \n",
    "# in the model "
   ]
  },
  {
   "cell_type": "code",
   "execution_count": 31,
   "id": "77524aec",
   "metadata": {},
   "outputs": [],
   "source": [
    "df1.set_index(\"date\",inplace=True)\n",
    "df2.set_index(\"Date\",inplace=True)"
   ]
  },
  {
   "cell_type": "code",
   "execution_count": 32,
   "id": "d62b172a",
   "metadata": {},
   "outputs": [],
   "source": [
    "total_data=pd.concat([df1,df2],axis=1).drop([\"HomeTeam\",\"AwayTeam\"],axis=1)\n",
    "\n",
    "# merging the data "
   ]
  },
  {
   "cell_type": "code",
   "execution_count": 33,
   "id": "1eb31f08",
   "metadata": {},
   "outputs": [],
   "source": [
    "# TS=> Team shot \n",
    "# OS=> Oppoent shot \n",
    "# TST=>Team shot taret\n",
    "# OST=>Opponent shot target\n",
    "\n",
    "# and the rest just change the home t- team , and away to opponent \n",
    "\n",
    "total_data.rename({\"HS\":\"TS\",\"AS\":\"OS\",\"HST\":\"TST\",\"AST\":\"OST\",\"HF\":\"TF\",\"AF\":\"OF\",\"HC\":\"TC\",\"AC\":\"OC\",\"HY\":\"TY\"\n",
    "                   ,\"AY\":\"OY\",\"HR\":\"TR\",\"AR\":\"OR\"},axis=1,inplace=True)"
   ]
  },
  {
   "cell_type": "code",
   "execution_count": 34,
   "id": "a2b6cc7a",
   "metadata": {},
   "outputs": [],
   "source": [
    "from sklearn.preprocessing import LabelEncoder\n",
    "from sklearn.preprocessing import OneHotEncoder\n",
    "import copy \n",
    "# this process should be done after concat all the data exampels \n",
    "# because as you know there are 5 teams that will be present from the \n",
    "# Div1 and five will go from Div0 to Div1 each season \n",
    "# so to get all the name of the teams that \n",
    "# This is not always ideal for ML as the integers have different numerical values, \n",
    "#suggesting that one is bigger than the other, with, for example Pear > Apple, \n",
    "#which is not at all the case. To not introduce this kind of problem you'd want to use OneHotEncoder.\n"
   ]
  },
  {
   "cell_type": "code",
   "execution_count": 35,
   "id": "d960d2af",
   "metadata": {},
   "outputs": [],
   "source": [
    "total_data.rename({\"home\":\"team\",\"away\":\"opponent\"},axis=1,inplace=True)\n",
    "# renameing the home to team and the away to opponent "
   ]
  },
  {
   "cell_type": "code",
   "execution_count": 36,
   "id": "adf2b158",
   "metadata": {},
   "outputs": [],
   "source": [
    "total_data[\"Home\"]=1\n",
    "\n"
   ]
  },
  {
   "cell_type": "markdown",
   "id": "87258b50",
   "metadata": {},
   "source": [
    "## Important Part \n",
    "<hr>\n",
    "**here I will  give the model the name of the team then the opponent name and the most effective attribute is 'are you palying on your home or not' so I should duplicate the data and reverse the order**\n",
    "example \n",
    "\n",
    "\n",
    "- if the home team is arsenal and the away is Liverpool\n",
    "- the first example should be like that {\"team\":\"Arsenal\",\"opponent\":\"Liverpool\",....\"Home\":\"1\"}\n",
    "-  the last input was taking in Arsenal perspective so what about liverpool\n",
    "-  we should add another example in the data which will talk about Liverpool perspective \n",
    "-  {\"team\":\"Liverpool\", \"opponent\":\"Aresnal\",.... \"Home\":\"0\"}"
   ]
  },
  {
   "cell_type": "code",
   "execution_count": 37,
   "id": "942ccf2d",
   "metadata": {},
   "outputs": [],
   "source": [
    "temp=copy.deepcopy(total_data)"
   ]
  },
  {
   "cell_type": "code",
   "execution_count": 38,
   "id": "758693b0",
   "metadata": {},
   "outputs": [],
   "source": [
    "temp.rename({ \"team\":\"opponent\",\"opponent\":\"team\" , \"POT\":\"POO\",\"POO\":\"POT\" ,\"CRT\":\"CRO\",\"CRO\":\"CRT\",\n",
    "              \"TCT\":\"TCO\",\"TCO\":\"TCT\" , \"TTT\":\"TTO\",\"TTO\":\"TTT\" , \"IPT\":\"IPO\",\"IPO\":\"IPT\" \n",
    "             ,\"ART\":\"ARO\",\"ARO\":\"ART\", \"CLT\":\"CLO\",\"CLO\":\"CLT\", \"TCP\":\"OCP\",\"OCP\":\"TCP\" \n",
    "             ,\"TTP\":\"OTP\",\"OTP\":\"TTP\",  \"TS\":\"OS\",\"OS\":\"TS\", \"TST\":\"OST\",\"OST\":\"TST\" ,\"TF\":\"OF\",\"OF\":\"TF\",\n",
    "            \"TC\":\"OC\",\"OC\":\"TC\", \"TY\":\"OY\",\"OY\":\"TY\", \"TR\":\"OR\",\"OR\":\"TR\" }\n",
    "            ,axis=1,inplace=True)\n",
    "\n",
    "\n",
    "\n",
    "# just reversing the order of all the attributes the team will be the \n",
    "# opponent and the opponent will be the team to see the prespective \n",
    "# of the two clubs not only one "
   ]
  },
  {
   "cell_type": "code",
   "execution_count": 39,
   "id": "1559c3b1",
   "metadata": {},
   "outputs": [],
   "source": [
    "temp=temp[[\"team\",\"opponent\",\"POT\",\"POO\",\"CRT\",\"CRO\",\"TCT\",\"TCO\",\"TTT\",\"TTO\",\"IPT\",\"IPO\",\"ART\",\"ARO\",\"CLT\",\"CLO\",\"TCP\",\"TTP\",\"OCP\",\"OTP\",\"FTR\",\"TS\",\"OS\",\"TST\",\"OST\",\"TF\",\"OF\",\"TC\",\"OC\",\"TY\",\"OY\",\"TR\",\"OR\",\"Home\"]]\n",
    "\n",
    "# reording the columns to be in the  same order as the total data  "
   ]
  },
  {
   "cell_type": "code",
   "execution_count": 40,
   "id": "e90e83a9",
   "metadata": {},
   "outputs": [
    {
     "name": "stdout",
     "output_type": "stream",
     "text": [
      "99\n",
      "173\n",
      "108\n"
     ]
    },
    {
     "data": {
      "text/html": [
       "<div>\n",
       "<style scoped>\n",
       "    .dataframe tbody tr th:only-of-type {\n",
       "        vertical-align: middle;\n",
       "    }\n",
       "\n",
       "    .dataframe tbody tr th {\n",
       "        vertical-align: top;\n",
       "    }\n",
       "\n",
       "    .dataframe thead th {\n",
       "        text-align: right;\n",
       "    }\n",
       "</style>\n",
       "<table border=\"1\" class=\"dataframe\">\n",
       "  <thead>\n",
       "    <tr style=\"text-align: right;\">\n",
       "      <th></th>\n",
       "      <th>team</th>\n",
       "      <th>opponent</th>\n",
       "      <th>FTR</th>\n",
       "      <th>Home</th>\n",
       "    </tr>\n",
       "  </thead>\n",
       "  <tbody>\n",
       "    <tr>\n",
       "      <th>2017-08-11</th>\n",
       "      <td>Arsenal</td>\n",
       "      <td>Leicester City</td>\n",
       "      <td>2</td>\n",
       "      <td>1</td>\n",
       "    </tr>\n",
       "    <tr>\n",
       "      <th>2017-08-12</th>\n",
       "      <td>Brighton &amp; Hove Albion</td>\n",
       "      <td>Manchester City</td>\n",
       "      <td>0</td>\n",
       "      <td>1</td>\n",
       "    </tr>\n",
       "    <tr>\n",
       "      <th>2017-08-12</th>\n",
       "      <td>Chelsea</td>\n",
       "      <td>Burnley</td>\n",
       "      <td>0</td>\n",
       "      <td>1</td>\n",
       "    </tr>\n",
       "    <tr>\n",
       "      <th>2017-08-12</th>\n",
       "      <td>Crystal Palace</td>\n",
       "      <td>Huddersfield Town</td>\n",
       "      <td>0</td>\n",
       "      <td>1</td>\n",
       "    </tr>\n",
       "    <tr>\n",
       "      <th>2017-08-12</th>\n",
       "      <td>Everton</td>\n",
       "      <td>Stoke City</td>\n",
       "      <td>2</td>\n",
       "      <td>1</td>\n",
       "    </tr>\n",
       "    <tr>\n",
       "      <th>...</th>\n",
       "      <td>...</td>\n",
       "      <td>...</td>\n",
       "      <td>...</td>\n",
       "      <td>...</td>\n",
       "    </tr>\n",
       "    <tr>\n",
       "      <th>2018-05-13</th>\n",
       "      <td>Newcastle United</td>\n",
       "      <td>Chelsea</td>\n",
       "      <td>2</td>\n",
       "      <td>1</td>\n",
       "    </tr>\n",
       "    <tr>\n",
       "      <th>2018-05-13</th>\n",
       "      <td>Southampton</td>\n",
       "      <td>Manchester City</td>\n",
       "      <td>0</td>\n",
       "      <td>1</td>\n",
       "    </tr>\n",
       "    <tr>\n",
       "      <th>2018-05-13</th>\n",
       "      <td>Swansea City</td>\n",
       "      <td>Stoke City</td>\n",
       "      <td>0</td>\n",
       "      <td>1</td>\n",
       "    </tr>\n",
       "    <tr>\n",
       "      <th>2018-05-13</th>\n",
       "      <td>Tottenham Hotspur</td>\n",
       "      <td>Leicester City</td>\n",
       "      <td>2</td>\n",
       "      <td>1</td>\n",
       "    </tr>\n",
       "    <tr>\n",
       "      <th>2018-05-13</th>\n",
       "      <td>West Ham United</td>\n",
       "      <td>Everton</td>\n",
       "      <td>2</td>\n",
       "      <td>1</td>\n",
       "    </tr>\n",
       "  </tbody>\n",
       "</table>\n",
       "<p>380 rows × 4 columns</p>\n",
       "</div>"
      ],
      "text/plain": [
       "                              team           opponent FTR  Home\n",
       "2017-08-11                 Arsenal     Leicester City   2     1\n",
       "2017-08-12  Brighton & Hove Albion    Manchester City   0     1\n",
       "2017-08-12                 Chelsea            Burnley   0     1\n",
       "2017-08-12          Crystal Palace  Huddersfield Town   0     1\n",
       "2017-08-12                 Everton         Stoke City   2     1\n",
       "...                            ...                ...  ..   ...\n",
       "2018-05-13        Newcastle United            Chelsea   2     1\n",
       "2018-05-13             Southampton    Manchester City   0     1\n",
       "2018-05-13            Swansea City         Stoke City   0     1\n",
       "2018-05-13       Tottenham Hotspur     Leicester City   2     1\n",
       "2018-05-13         West Ham United            Everton   2     1\n",
       "\n",
       "[380 rows x 4 columns]"
      ]
     },
     "execution_count": 40,
     "metadata": {},
     "output_type": "execute_result"
    }
   ],
   "source": [
    "total_data.columns==temp.columns\n",
    "\n",
    "filt_win= (total_data[\"FTR\"]=='H')\n",
    "filt_draw=(total_data[\"FTR\"]=='D')\n",
    "filt_loss=(total_data[\"FTR\"]=='A')\n",
    "print(total_data.loc[filt_draw].shape[0])\n",
    "print(total_data.loc[filt_win].shape[0])\n",
    "print(total_data.loc[filt_loss].shape[0])\n",
    "total_data.loc[filt_win,\"FTR\"]=2\n",
    "total_data.loc[filt_draw,\"FTR\"]=1\n",
    "total_data.loc[filt_loss,\"FTR\"]=0\n",
    "total_data[\"Home\"]=1\n",
    "total_data[[\"team\",\"opponent\",\"FTR\",\"Home\"]]\n",
    "\n",
    "# just encode the H-> my perspective team win to 2 \n",
    "#                 D-> Drawing \n",
    "#                 L-> loss \n",
    "# and see some data about the effect"
   ]
  },
  {
   "cell_type": "code",
   "execution_count": null,
   "id": "5995f53c",
   "metadata": {},
   "outputs": [],
   "source": []
  }
 ],
 "metadata": {
  "kernelspec": {
   "display_name": "Python 3 (ipykernel)",
   "language": "python",
   "name": "python3"
  },
  "language_info": {
   "codemirror_mode": {
    "name": "ipython",
    "version": 3
   },
   "file_extension": ".py",
   "mimetype": "text/x-python",
   "name": "python",
   "nbconvert_exporter": "python",
   "pygments_lexer": "ipython3",
   "version": "3.9.13"
  }
 },
 "nbformat": 4,
 "nbformat_minor": 5
}
